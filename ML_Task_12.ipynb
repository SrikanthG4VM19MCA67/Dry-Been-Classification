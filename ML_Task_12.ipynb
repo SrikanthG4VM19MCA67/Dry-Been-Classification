{
  "nbformat": 4,
  "nbformat_minor": 0,
  "metadata": {
    "colab": {
      "provenance": []
    },
    "kernelspec": {
      "name": "python3",
      "display_name": "Python 3"
    },
    "language_info": {
      "name": "python"
    }
  },
  "cells": [
    {
      "cell_type": "code",
      "execution_count": 38,
      "metadata": {
        "id": "2q3ORfv1ISLw"
      },
      "outputs": [],
      "source": [
        "import pandas as pd\n",
        "import numpy as np\n",
        "import seaborn as sns\n",
        "import matplotlib.pyplot as plt\n",
        "from sklearn.metrics import mean_absolute_error,mean_squared_error,r2_score\n",
        "from sklearn.model_selection import train_test_split\n",
        "from sklearn.neighbors import KNeighborsRegressor\n",
        "from sklearn.datasets import make_regression\n",
        "from sklearn.preprocessing import StandardScaler\n",
        "from sklearn.dummy import DummyRegressor"
      ]
    },
    {
      "cell_type": "code",
      "source": [
        "fv,cv=make_regression(n_samples=1000,n_features=10,n_targets=1,n_informative=8)"
      ],
      "metadata": {
        "id": "2a_GHvrCK0KT"
      },
      "execution_count": 39,
      "outputs": []
    },
    {
      "cell_type": "code",
      "source": [
        "fv.shape"
      ],
      "metadata": {
        "colab": {
          "base_uri": "https://localhost:8080/"
        },
        "id": "m5MQjYY5LoSa",
        "outputId": "65870671-b979-4f10-a295-4e34eb12129f"
      },
      "execution_count": 40,
      "outputs": [
        {
          "output_type": "execute_result",
          "data": {
            "text/plain": [
              "(1000, 10)"
            ]
          },
          "metadata": {},
          "execution_count": 40
        }
      ]
    },
    {
      "cell_type": "code",
      "source": [
        "cv.shape"
      ],
      "metadata": {
        "colab": {
          "base_uri": "https://localhost:8080/"
        },
        "id": "o_DVR8GbLp-z",
        "outputId": "1bf628b9-a7d2-49d1-d0c4-af566c65d555"
      },
      "execution_count": 41,
      "outputs": [
        {
          "output_type": "execute_result",
          "data": {
            "text/plain": [
              "(1000,)"
            ]
          },
          "metadata": {},
          "execution_count": 41
        }
      ]
    },
    {
      "cell_type": "code",
      "source": [
        "x_train,x_test,y_train,y_test=train_test_split(fv,cv,test_size=0.2,random_state=1)\n",
        "x_trainf,x_cv,y_trainf,y_cv=train_test_split(x_train,y_train,test_size=0.1,random_state=1)"
      ],
      "metadata": {
        "id": "BMcF_GenL0Ux"
      },
      "execution_count": 42,
      "outputs": []
    },
    {
      "cell_type": "code",
      "source": [
        "x_train.shape"
      ],
      "metadata": {
        "colab": {
          "base_uri": "https://localhost:8080/"
        },
        "id": "GaKzhHQ-NcCK",
        "outputId": "57a0d97b-41ed-4347-c819-bfc2aa7f97ef"
      },
      "execution_count": 43,
      "outputs": [
        {
          "output_type": "execute_result",
          "data": {
            "text/plain": [
              "(800, 10)"
            ]
          },
          "metadata": {},
          "execution_count": 43
        }
      ]
    },
    {
      "cell_type": "code",
      "source": [
        "y_train.shape"
      ],
      "metadata": {
        "colab": {
          "base_uri": "https://localhost:8080/"
        },
        "id": "JCNOfs00Pnsa",
        "outputId": "083706c1-24c3-429d-e160-aa13e77552b6"
      },
      "execution_count": 44,
      "outputs": [
        {
          "output_type": "execute_result",
          "data": {
            "text/plain": [
              "(800,)"
            ]
          },
          "metadata": {},
          "execution_count": 44
        }
      ]
    },
    {
      "cell_type": "code",
      "source": [
        "x_test.shape"
      ],
      "metadata": {
        "colab": {
          "base_uri": "https://localhost:8080/"
        },
        "id": "PPTigFo_Pq-a",
        "outputId": "96a89e15-1080-4735-dd12-0407d1a91c5d"
      },
      "execution_count": 45,
      "outputs": [
        {
          "output_type": "execute_result",
          "data": {
            "text/plain": [
              "(200, 10)"
            ]
          },
          "metadata": {},
          "execution_count": 45
        }
      ]
    },
    {
      "cell_type": "code",
      "source": [
        "sns.distplot(pd.DataFrame(fv)[8])"
      ],
      "metadata": {
        "colab": {
          "base_uri": "https://localhost:8080/",
          "height": 657
        },
        "id": "Ilo86s_WPtdW",
        "outputId": "3f4ac97c-9154-4664-d394-9a13835c1b74"
      },
      "execution_count": 46,
      "outputs": [
        {
          "output_type": "stream",
          "name": "stderr",
          "text": [
            "<ipython-input-46-56e041dd2a1e>:1: UserWarning: \n",
            "\n",
            "`distplot` is a deprecated function and will be removed in seaborn v0.14.0.\n",
            "\n",
            "Please adapt your code to use either `displot` (a figure-level function with\n",
            "similar flexibility) or `histplot` (an axes-level function for histograms).\n",
            "\n",
            "For a guide to updating your code to use the new functions, please see\n",
            "https://gist.github.com/mwaskom/de44147ed2974457ad6372750bbe5751\n",
            "\n",
            "  sns.distplot(pd.DataFrame(fv)[8])\n"
          ]
        },
        {
          "output_type": "execute_result",
          "data": {
            "text/plain": [
              "<Axes: xlabel='8', ylabel='Density'>"
            ]
          },
          "metadata": {},
          "execution_count": 46
        },
        {
          "output_type": "display_data",
          "data": {
            "text/plain": [
              "<Figure size 640x480 with 1 Axes>"
            ],
            "image/png": "[encoded data removed]"
          },
          "metadata": {}
        }
      ]
    },
    {
      "cell_type": "code",
      "source": [
        "std=StandardScaler()\n",
        "x_trainf=std.fit_transform(x_trainf)\n",
        "x_cv=std.transform(x_cv)\n",
        "x_test=std.transform(x_test)"
      ],
      "metadata": {
        "id": "vLRhd9S2P9co"
      },
      "execution_count": 47,
      "outputs": []
    },
    {
      "cell_type": "code",
      "source": [
        "k=[]\n",
        "Train_mse=[]\n",
        "Test_mse=[]\n",
        "\n",
        "for i in range(1,50):\n",
        "  knn=KNeighborsRegressor(n_neighbors=i)\n",
        "  model=knn.fit(x_trainf,y_trainf)\n",
        "  y_pred=model.predict(x_trainf)\n",
        "  Train_mse.append(mean_squared_error(y_trainf,y_pred))\n",
        "\n",
        "  y_pred=model.predict(x_cv)\n",
        "  Test_mse.append(mean_squared_error(y_cv,y_pred))\n",
        "  k.append(i)\n",
        "\n",
        "plt.plot(k,Train_mse,label='Train MSE')\n",
        "plt.plot(k,Test_mse,label='Test MSE')\n",
        "plt.legend()\n",
        "plt.show()"
      ],
      "metadata": {
        "colab": {
          "base_uri": "https://localhost:8080/",
          "height": 430
        },
        "id": "JbqLAVbGQ3Ke",
        "outputId": "0d82cc4c-be7b-46d6-aedb-5107153793f5"
      },
      "execution_count": 48,
      "outputs": [
        {
          "output_type": "display_data",
          "data": {
            "text/plain": [
              "<Figure size 640x480 with 1 Axes>"
            ],
            "image/png": "[encoded data removed]"
          },
          "metadata": {}
        }
      ]
    },
    {
      "cell_type": "code",
      "source": [
        "k=[]\n",
        "mse=[]\n",
        "mae=[]\n",
        "r2score=[]\n",
        "\n",
        "for i in range(10,20):\n",
        "  knn=KNeighborsRegressor(n_neighbors=i)\n",
        "  model=knn.fit(x_trainf,y_trainf)\n",
        "  y_pred=model.predict(x_cv)\n",
        "  k.append(i)\n",
        "  mse.append(mean_squared_error(y_cv,y_pred))\n",
        "  mae.append(mean_absolute_error(y_cv,y_pred))\n",
        "  r2score.append(r2_score(y_cv,y_pred))\n"
      ],
      "metadata": {
        "id": "DUr5k_JbTVPR"
      },
      "execution_count": 49,
      "outputs": []
    },
    {
      "cell_type": "code",
      "source": [
        "k"
      ],
      "metadata": {
        "colab": {
          "base_uri": "https://localhost:8080/"
        },
        "id": "6PbMwNjHWrqi",
        "outputId": "78a75706-74ac-472f-9f79-71080fd9605e"
      },
      "execution_count": 50,
      "outputs": [
        {
          "output_type": "execute_result",
          "data": {
            "text/plain": [
              "[10, 11, 12, 13, 14, 15, 16, 17, 18, 19]"
            ]
          },
          "metadata": {},
          "execution_count": 50
        }
      ]
    },
    {
      "cell_type": "code",
      "source": [
        "mse"
      ],
      "metadata": {
        "colab": {
          "base_uri": "https://localhost:8080/"
        },
        "id": "Gf1CJjstWwj9",
        "outputId": "b000b05b-1e79-4ea8-a0cd-cd9f89d69d5f"
      },
      "execution_count": 51,
      "outputs": [
        {
          "output_type": "execute_result",
          "data": {
            "text/plain": [
              "[4658.530081735603,\n",
              " 4599.050334643669,\n",
              " 4623.435269528981,\n",
              " 4827.3757457422425,\n",
              " 4913.985440298657,\n",
              " 4803.015252652095,\n",
              " 4882.758754981272,\n",
              " 4811.811980765806,\n",
              " 4775.706584999522,\n",
              " 4837.093095584995]"
            ]
          },
          "metadata": {},
          "execution_count": 51
        }
      ]
    },
    {
      "cell_type": "code",
      "source": [
        "mae"
      ],
      "metadata": {
        "colab": {
          "base_uri": "https://localhost:8080/"
        },
        "id": "SC9RF4kYWzkg",
        "outputId": "da83f3b4-99e8-46fb-b7b4-b2339e69ff84"
      },
      "execution_count": 52,
      "outputs": [
        {
          "output_type": "execute_result",
          "data": {
            "text/plain": [
              "[52.89088104897384,\n",
              " 52.51689125565954,\n",
              " 51.87532547967834,\n",
              " 53.276184473800754,\n",
              " 53.72565811121145,\n",
              " 52.61010896316617,\n",
              " 52.52812105881786,\n",
              " 52.08606643523782,\n",
              " 51.88036324060501,\n",
              " 52.87614090827229]"
            ]
          },
          "metadata": {},
          "execution_count": 52
        }
      ]
    },
    {
      "cell_type": "code",
      "source": [
        "knn=KNeighborsRegressor(n_neighbors=12)\n",
        "model=knn.fit(x_trainf,y_trainf)\n",
        "y_pred=model.predict(x_test)\n",
        "print(mean_absolute_error(y_test,y_pred))\n",
        "print(mean_squared_error(y_test,y_pred))\n",
        "print(r2_score(y_test,y_pred))"
      ],
      "metadata": {
        "colab": {
          "base_uri": "https://localhost:8080/"
        },
        "id": "R5twvf3XW0nh",
        "outputId": "1b56f49e-6089-4c8f-d77c-7065e7e0e988"
      },
      "execution_count": 53,
      "outputs": [
        {
          "output_type": "stream",
          "name": "stdout",
          "text": [
            "50.092647151021744\n",
            "4299.673408438569\n",
            "0.8040253911645776\n"
          ]
        }
      ]
    },
    {
      "cell_type": "markdown",
      "source": [
        "RMSE:-"
      ],
      "metadata": {
        "id": "Xc0EXYl7ZnGw"
      }
    },
    {
      "cell_type": "code",
      "source": [
        "import math\n",
        "def rmse_(y_test,y_pred):\n",
        "  mse=mean_squared_error(y_test,y_pred)\n",
        "  rmse=math.sqrt(mse)\n",
        "  return rmse"
      ],
      "metadata": {
        "id": "vOjTWFKWYR4V"
      },
      "execution_count": 54,
      "outputs": []
    },
    {
      "cell_type": "code",
      "source": [
        "rmse_(y_test,y_pred)"
      ],
      "metadata": {
        "colab": {
          "base_uri": "https://localhost:8080/"
        },
        "id": "AJViIfE4aRQs",
        "outputId": "53f8e481-2cfb-4448-fc1d-a79e5503e873"
      },
      "execution_count": 55,
      "outputs": [
        {
          "output_type": "execute_result",
          "data": {
            "text/plain": [
              "65.57189495842384"
            ]
          },
          "metadata": {},
          "execution_count": 55
        }
      ]
    },
    {
      "cell_type": "markdown",
      "source": [
        "Adjusted r2score:-"
      ],
      "metadata": {
        "id": "vPXPRfBFalAE"
      }
    },
    {
      "cell_type": "code",
      "source": [
        "fv,cv=make_regression(n_samples=1000,n_features=10,n_targets=1,n_informative=0)"
      ],
      "metadata": {
        "id": "yuMa6WlJabPx"
      },
      "execution_count": 56,
      "outputs": []
    },
    {
      "cell_type": "code",
      "source": [
        "x_train,x_test,y_train,y_test=train_test_split(fv,cv,test_size=0.2,random_state=1)"
      ],
      "metadata": {
        "id": "h5OJH0WcbP_9"
      },
      "execution_count": 57,
      "outputs": []
    },
    {
      "cell_type": "code",
      "source": [
        "std=StandardScaler()\n",
        "x_train=std.fit_transform(x_train)\n",
        "x_test=std.transform(x_test)"
      ],
      "metadata": {
        "id": "JykJxpELbtpG"
      },
      "execution_count": 58,
      "outputs": []
    },
    {
      "cell_type": "code",
      "source": [
        "def adjusted_r2_score(y_test,y_pred,n,k):\n",
        "  r2score=r2_score(y_test,y_pred)\n",
        "  adjusted_r2score=1-((1-r2score)*(n-1)/(n-k-1))\n",
        "  return adjusted_r2score"
      ],
      "metadata": {
        "id": "3nbBJu8mcHkB"
      },
      "execution_count": 59,
      "outputs": []
    },
    {
      "cell_type": "code",
      "source": [
        "n=x_test.shape[0]\n",
        "k=x_test.shape[1]\n",
        "knn=KNeighborsRegressor(n_neighbors=12)\n",
        "model=knn.fit(x_train,y_train)\n",
        "y_pred=model.predict(x_test)\n",
        "adjusted_r2_score(y_test,y_pred,n,k)"
      ],
      "metadata": {
        "colab": {
          "base_uri": "https://localhost:8080/"
        },
        "id": "wWTB1XCRc9yp",
        "outputId": "91830b79-3837-4a25-af50-ca6063f6fd3c"
      },
      "execution_count": 60,
      "outputs": [
        {
          "output_type": "execute_result",
          "data": {
            "text/plain": [
              "1.0"
            ]
          },
          "metadata": {},
          "execution_count": 60
        }
      ]
    },
    {
      "cell_type": "code",
      "source": [
        "# Mean Model:-\n",
        "mean_y_train=np.mean(y_train)\n",
        "m_y_pred=np.full((200),mean_y_train)\n",
        "adjusted_r2_score(y_test,m_y_pred,200,10)"
      ],
      "metadata": {
        "colab": {
          "base_uri": "https://localhost:8080/"
        },
        "id": "2IVo_fnjeLCS",
        "outputId": "a1931f4d-0107-4e7d-e8a2-2df4ed8069ea"
      },
      "execution_count": 61,
      "outputs": [
        {
          "output_type": "execute_result",
          "data": {
            "text/plain": [
              "1.0"
            ]
          },
          "metadata": {},
          "execution_count": 61
        }
      ]
    },
    {
      "cell_type": "code",
      "source": [
        "fv,cv=make_regression(n_samples=1000,n_features=10,n_targets=1,n_informative=1)"
      ],
      "metadata": {
        "id": "mi6OQP4Pe5xo"
      },
      "execution_count": 62,
      "outputs": []
    },
    {
      "cell_type": "code",
      "source": [
        "x_train,x_test,y_train,y_test=train_test_split(fv,cv,test_size=0.2,random_state=1)"
      ],
      "metadata": {
        "id": "PAk0Kmbv1TQZ"
      },
      "execution_count": 63,
      "outputs": []
    },
    {
      "cell_type": "code",
      "source": [
        "std=StandardScaler()\n",
        "x_train=std.fit_transform(x_train)\n",
        "x_test=std.transform(x_test)"
      ],
      "metadata": {
        "id": "q_3cC-l01yat"
      },
      "execution_count": 64,
      "outputs": []
    },
    {
      "cell_type": "code",
      "source": [
        "n=x_test.shape[0]\n",
        "k=x_test.shape[1]\n",
        "knn=KNeighborsRegressor(n_neighbors=12)\n",
        "model=knn.fit(x_train,y_train)\n",
        "y_pred=model.predict(x_test)\n",
        "adjusted_r2_score(y_test,y_pred,n,k)"
      ],
      "metadata": {
        "id": "5ltjzy-N2Nk6",
        "outputId": "1710c223-60ad-4764-8209-daaea2db8bc6",
        "colab": {
          "base_uri": "https://localhost:8080/"
        }
      },
      "execution_count": 65,
      "outputs": [
        {
          "output_type": "execute_result",
          "data": {
            "text/plain": [
              "0.8024970494050776"
            ]
          },
          "metadata": {},
          "execution_count": 65
        }
      ]
    },
    {
      "cell_type": "code",
      "source": [
        "# Mean Model:-\n",
        "fv,cv=make_regression(n_samples=1000,n_features=10,n_targets=1,n_informative=2)"
      ],
      "metadata": {
        "id": "7M1jvvnV3RC9"
      },
      "execution_count": 66,
      "outputs": []
    },
    {
      "cell_type": "code",
      "source": [
        "x_train,x_test,y_train,y_test=train_test_split(fv,cv,test_size=0.2,random_state=1)"
      ],
      "metadata": {
        "id": "i_Y_oxf-30XO"
      },
      "execution_count": 67,
      "outputs": []
    },
    {
      "cell_type": "code",
      "source": [
        "std=StandardScaler()\n",
        "x_train=std.fit_transform(x_train)\n",
        "x_test=std.transform(x_test)"
      ],
      "metadata": {
        "id": "OVbIF1HX4FCP"
      },
      "execution_count": 68,
      "outputs": []
    },
    {
      "cell_type": "code",
      "source": [
        "n=x_train.shape[0]\n",
        "k=x_test.shape[1]\n",
        "knn=KNeighborsRegressor(n_neighbors=12)\n",
        "model=knn.fit(x_train,y_train)\n",
        "y_pred=model.predict(x_test)\n",
        "adjusted_r2_score(y_test,y_pred,n,k)"
      ],
      "metadata": {
        "id": "fZpwgrmr4cWX",
        "outputId": "a73c481c-0ec5-4d00-8c83-9135ec374e13",
        "colab": {
          "base_uri": "https://localhost:8080/"
        }
      },
      "execution_count": 69,
      "outputs": [
        {
          "output_type": "execute_result",
          "data": {
            "text/plain": [
              "0.7672775265708485"
            ]
          },
          "metadata": {},
          "execution_count": 69
        }
      ]
    },
    {
      "cell_type": "code",
      "source": [
        "# Mean Model:-\n",
        "mean_y_train=np.mean(y_train)\n",
        "m_y_pred=np.full((200),mean_y_train)\n",
        "adjusted_r2_score(y_test,m_y_pred,200,10)"
      ],
      "metadata": {
        "id": "g-53CqP45U9a",
        "outputId": "5df501f6-c39f-4d7c-fdee-6aaeedb6563e",
        "colab": {
          "base_uri": "https://localhost:8080/"
        }
      },
      "execution_count": 70,
      "outputs": [
        {
          "output_type": "execute_result",
          "data": {
            "text/plain": [
              "-0.05328872629000081"
            ]
          },
          "metadata": {},
          "execution_count": 70
        }
      ]
    },
    {
      "cell_type": "code",
      "source": [
        "fv,cv=make_regression(n_samples=1000,n_features=10,n_targets=1,n_informative=3)"
      ],
      "metadata": {
        "id": "CBbMd5iA5_z0"
      },
      "execution_count": 71,
      "outputs": []
    },
    {
      "cell_type": "code",
      "source": [
        "x_train,x_test,y_train,y_test=train_test_split(fv,cv,test_size=0.2,random_state=1)"
      ],
      "metadata": {
        "id": "4vkpvrwk6SiD"
      },
      "execution_count": 72,
      "outputs": []
    },
    {
      "cell_type": "code",
      "source": [
        "std=StandardScaler()\n",
        "x_train=std.fit_transform(x_train)\n",
        "x_test=std.transform(x_test)"
      ],
      "metadata": {
        "id": "3qvo0VV56kiA"
      },
      "execution_count": 73,
      "outputs": []
    },
    {
      "cell_type": "code",
      "source": [
        "n=x_test.shape[0]\n",
        "k=x_test.shape[1]\n",
        "knn=KNeighborsRegressor(n_neighbors=12)\n",
        "model=knn.fit(x_train,y_train)\n",
        "y_pred=model.predict(x_test)\n",
        "adjusted_r2_score(y_test,y_pred,n,k)"
      ],
      "metadata": {
        "id": "fMDFDehJ68dq",
        "outputId": "650850f3-481d-4fb8-c1cb-9e19bd8ff8f6",
        "colab": {
          "base_uri": "https://localhost:8080/"
        }
      },
      "execution_count": 75,
      "outputs": [
        {
          "output_type": "execute_result",
          "data": {
            "text/plain": [
              "0.7843127542756047"
            ]
          },
          "metadata": {},
          "execution_count": 75
        }
      ]
    },
    {
      "cell_type": "code",
      "source": [
        "# Mean Model:-\n",
        "mean_y_train=np.mean(y_train)\n",
        "m_y_pred=np.full((200),mean_y_train)\n",
        "adjusted_r2_score(y_test,m_y_pred,200,10)"
      ],
      "metadata": {
        "id": "sMPLp19TJWk9",
        "outputId": "205d6ae5-73d1-42e1-d513-c88108f3e060",
        "colab": {
          "base_uri": "https://localhost:8080/"
        }
      },
      "execution_count": 77,
      "outputs": [
        {
          "output_type": "execute_result",
          "data": {
            "text/plain": [
              "-0.062338446791715185"
            ]
          },
          "metadata": {},
          "execution_count": 77
        }
      ]
    },
    {
      "cell_type": "code",
      "source": [],
      "metadata": {
        "id": "zhXwWXQcK3uV"
      },
      "execution_count": null,
      "outputs": []
    }
  ]
}